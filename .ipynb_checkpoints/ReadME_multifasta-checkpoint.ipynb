{
 "cells": [
  {
   "cell_type": "markdown",
   "metadata": {},
   "source": [
    "# Using multifasta.py\n",
    "\n",
    "This code is written to combine .nt files into multifasta format as well as handle other situations in which multiple fastas and species names need to be aligned or manipulated. \n",
    "\n",
    "For single fasta file the program will name the contig after the name of the file, thus be careful with your naming scheme.\n",
    "\n",
    "Files are always saved as \"datetime stamp\"-multifasta.txt\n",
    "in the directory of the .nt files\n",
    "\n",
    "For now multifasta beta version lives only on my machine"
   ]
  },
  {
   "cell_type": "markdown",
   "metadata": {},
   "source": [
    "# Combine Multiple Single FASTA (.NT) Files into a MultiFASTA"
   ]
  },
  {
   "cell_type": "code",
   "execution_count": 1,
   "metadata": {},
   "outputs": [],
   "source": [
    "from multifasta import fast\n",
    "#simply choose the directory of .nt files\n",
    "fast()"
   ]
  },
  {
   "cell_type": "markdown",
   "metadata": {},
   "source": [
    "# Combine Multiple Single FASTA (.NT) Files and Add Known Species Names into a MultiFASTA"
   ]
  },
  {
   "cell_type": "code",
   "execution_count": 1,
   "metadata": {},
   "outputs": [],
   "source": [
    "from multifasta import fast_species\n",
    "#Select Species File then select Directory of .NT files\n",
    "fast_species()"
   ]
  },
  {
   "cell_type": "markdown",
   "metadata": {},
   "source": [
    "# TBD\n",
    "\n",
    ">Combine Multiple MultiFASTA Files\n",
    "\n",
    ">Combine Multiple MultiFASTA Files and Add Species Names\n",
    "   "
   ]
  },
  {
   "cell_type": "code",
   "execution_count": null,
   "metadata": {},
   "outputs": [],
   "source": []
  }
 ],
 "metadata": {
  "kernelspec": {
   "display_name": "Python 3",
   "language": "python",
   "name": "python3"
  },
  "language_info": {
   "codemirror_mode": {
    "name": "ipython",
    "version": 3
   },
   "file_extension": ".py",
   "mimetype": "text/x-python",
   "name": "python",
   "nbconvert_exporter": "python",
   "pygments_lexer": "ipython3",
   "version": "3.7.3"
  }
 },
 "nbformat": 4,
 "nbformat_minor": 2
}
