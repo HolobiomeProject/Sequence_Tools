{
 "cells": [
  {
   "cell_type": "markdown",
   "metadata": {},
   "source": [
    "# MultiFasta\n",
    "This code is written to compile multiple fasta files in a folder into a single .txt file that can then be used for alignment. The second function is used to add a species name to the sequences."
   ]
  },
  {
   "cell_type": "code",
   "execution_count": 3,
   "metadata": {},
   "outputs": [],
   "source": [
    "#Dependancies\n",
    "import os\n",
    "import pandas as pd\n",
    "from tkinter import *\n",
    "import tkinter as tk\n",
    "from tkinter import filedialog, messagebox\n",
    "from datetime import datetime"
   ]
  },
  {
   "cell_type": "code",
   "execution_count": 9,
   "metadata": {},
   "outputs": [],
   "source": [
    "#Function to Combine all Fasta in file\n",
    "def multifasta(file_type):\n",
    "    #folder to direct to\n",
    "    folder = filedialog.askdirectory()\n",
    "    #Get the folder of interest entered by the user\n",
    "    out_file_name = str(datetime.now().strftime(\"%y-%m-%d-%H-%M\"))+'-multifasta.txt'\n",
    "    #change the directory to said folder\n",
    "    os.chdir(folder)\n",
    "    #list the files in said folder\n",
    "    ls = os.listdir()\n",
    "    #Create the outfile using the name provided by user\n",
    "    out_file = open(out_file_name, \"w+\")\n",
    "    #Go through the file list\n",
    "    for i in ls:\n",
    "        #observe only the .nt files of interest\n",
    "        if str(file_type) in i:\n",
    "            #read the file\n",
    "            file = open(i)\n",
    "            #check point for name of seq\n",
    "            k = 0\n",
    "            for j in file:\n",
    "                #check the first line\n",
    "                if k == 0:\n",
    "                    #if the name in of the seq does not match the name of the file\n",
    "                    #change the name of the seq to equal the name of the file, else, stay the same\n",
    "                    if j != i[:-len(file_type)]:\n",
    "                        out_file.write('>'+str(i[:-(len(file_type))])+'\\n')\n",
    "                    else:\n",
    "                      out_file.write(j)\n",
    "                    #add 1 to k because we are no longer on the first line\n",
    "                    k+=1\n",
    "                #all the other lines after the first\n",
    "                else:\n",
    "                    out_file.write(j)\n",
    "            #always close a file when you are done\n",
    "            file.close()\n",
    "    #close the outfile we created\n",
    "    out_file.close()\n",
    "    messagebox.showinfo(\"Complete\", \"Your MultiFASTA is Complete :)\\nName of File:  \"+out_file_name)"
   ]
  },
  {
   "cell_type": "markdown",
   "metadata": {},
   "source": [
    "# Use of MultiFasta"
   ]
  },
  {
   "cell_type": "code",
   "execution_count": 10,
   "metadata": {},
   "outputs": [],
   "source": [
    "#Choose the folder with all of the files of interest\n",
    "multifasta('.fasta')"
   ]
  },
  {
   "cell_type": "markdown",
   "metadata": {},
   "source": [
    "# Combine and Add Species Names"
   ]
  },
  {
   "cell_type": "code",
   "execution_count": 1,
   "metadata": {},
   "outputs": [],
   "source": [
    "\n",
    "def multifasta_species(file_type):\n",
    "        #Get Strain-Species File\n",
    "        messagebox.showinfo(\"Select Strain-Species File\", \"Please select a Strain Species File (.csv)\\nThe file sould have two columns\\nOne column labeled  EXACTLY: 'HB Strain Name'\\nAnd one column labeled EXACTLY: 'Species Name'\")\n",
    "        f = filedialog.askopenfilename()\n",
    "        df = pd.read_csv(f)\n",
    "        hb = df['HB Strain Name']\n",
    "        sn = df['Species Name']\n",
    "        #folder to direct to\n",
    "        messagebox.showinfo(\"Select Folder Containing Files\", \"Please select a folder containing .NT files (.csv)\\nThe files should be in FASTA format\")\n",
    "        folder = filedialog.askdirectory()\n",
    "        #Get the folder of interest entered by the user\n",
    "        out_file_name = str(datetime.now().strftime(\"%y-%m-%d-%H-%M\"))+'-multifasta.txt'\n",
    "        #change the directory to said folder\n",
    "        os.chdir(folder)\n",
    "        #list the files in said folder\n",
    "        ls = os.listdir()\n",
    "        #Create the outfile using the name provided by user\n",
    "        out_file = open(out_file_name, \"w+\")\n",
    "        #Go through the file list\n",
    "        for i in ls:\n",
    "            #observe only the .nt files of interest\n",
    "            if file_type in i:\n",
    "                #read the file\n",
    "                file = open(i)\n",
    "                #check point for name of seq\n",
    "                k = 0\n",
    "                for j in file:\n",
    "                    #First line is the name\n",
    "                    if k == 0:\n",
    "                        #change name\n",
    "                        for m in range(0,len(hb)):\n",
    "                            if i[:-3] == hb[m]:\n",
    "                                #>species name | HB-Strain\n",
    "                                out_file.write('>'+sn[m]+ ' | ' + str(i[:-len(file_type)])+'\\n')\n",
    "                        if str(i[:-(len(file_type))]) not in list(hb):\n",
    "                            out_file.write('>'+ str(i[:-(file_type)])+'\\n')\n",
    "\n",
    "                    else:\n",
    "                        out_file.write(j)\n",
    "                    #add 1 to k because wes are no longer on the first line\n",
    "                    k+=1\n",
    "                #always close a file when you are done\n",
    "                file.close()\n",
    "        #close the outfile we created\n",
    "        out_file.close()\n",
    "        messagebox.showinfo(\"Complete\", \"Your MultiFASTA is Complete :)\\nName of File:  \"+out_file_name)"
   ]
  },
  {
   "cell_type": "code",
   "execution_count": null,
   "metadata": {},
   "outputs": [],
   "source": []
  }
 ],
 "metadata": {
  "kernelspec": {
   "display_name": "Python 3",
   "language": "python",
   "name": "python3"
  },
  "language_info": {
   "codemirror_mode": {
    "name": "ipython",
    "version": 3
   },
   "file_extension": ".py",
   "mimetype": "text/x-python",
   "name": "python",
   "nbconvert_exporter": "python",
   "pygments_lexer": "ipython3",
   "version": "3.7.3"
  }
 },
 "nbformat": 4,
 "nbformat_minor": 2
}
